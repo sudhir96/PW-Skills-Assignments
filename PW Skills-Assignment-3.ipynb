{
 "cells": [
  {
   "cell_type": "markdown",
   "id": "154332fb",
   "metadata": {},
   "source": [
    "#### Q1. Which keyword is used to create a function? Create a function to return a list of odd numbers in the range of 1 to 25."
   ]
  },
  {
   "cell_type": "code",
   "execution_count": 23,
   "id": "6f786b37",
   "metadata": {},
   "outputs": [],
   "source": [
    "# def keyword use to create a function in python\n",
    "\n",
    "def odd_num(number):\n",
    "    odd_number=[] # created empty list which will store odd number after condition check\n",
    "    for i in list1:\n",
    "        if i % 2 !=0 :  # checking condition for if reminder is not zero means odd numbers\n",
    "            odd_number.append(i)  # appending that iteration value into empty list \n",
    "    return(odd_number)  "
   ]
  },
  {
   "cell_type": "code",
   "execution_count": 24,
   "id": "75610c30",
   "metadata": {},
   "outputs": [],
   "source": [
    "list1=[1,2,3,4,5,6,7,8,9,10,11,12,13,14,15,16,17,18,19,20,21,22,23,24,25]"
   ]
  },
  {
   "cell_type": "code",
   "execution_count": 25,
   "id": "8cbf9615",
   "metadata": {},
   "outputs": [
    {
     "data": {
      "text/plain": [
       "[1, 3, 5, 7, 9, 11, 13, 15, 17, 19, 21, 23, 25]"
      ]
     },
     "execution_count": 25,
     "metadata": {},
     "output_type": "execute_result"
    }
   ],
   "source": [
    "odd_num(list1)"
   ]
  },
  {
   "cell_type": "code",
   "execution_count": null,
   "id": "ae2d1d08",
   "metadata": {},
   "outputs": [],
   "source": []
  },
  {
   "cell_type": "code",
   "execution_count": 33,
   "id": "4f7a26f1",
   "metadata": {},
   "outputs": [
    {
     "name": "stdout",
     "output_type": "stream",
     "text": [
      "[1, 3, 5, 7, 9, 11, 13, 15, 17, 19, 21, 23, 25]\n"
     ]
    }
   ],
   "source": [
    "# By using lambda and filter function we can also achiver the same output \n",
    "#filter(function,iterables)\n",
    "\n",
    "odd=filter(lambda x : x%2 !=0, list1)\n",
    "print(list(odd))"
   ]
  },
  {
   "cell_type": "markdown",
   "id": "a6526b3a",
   "metadata": {},
   "source": [
    "#### Q2. Why *args and **kwargs is used in some functions? Create a function each for *args and **kwargs to demonstrate their use."
   ]
  },
  {
   "cell_type": "code",
   "execution_count": 42,
   "id": "748bfc62",
   "metadata": {},
   "outputs": [],
   "source": [
    "# args is use to pass single argument number\n",
    "\n",
    "def arg_p(args):\n",
    "    list1=[]\n",
    "    for i in args:\n",
    "        if i%2==0:\n",
    "            list1.append(i)\n",
    "            \n",
    "    return(list1)\n",
    "    "
   ]
  },
  {
   "cell_type": "code",
   "execution_count": 43,
   "id": "8e54af64",
   "metadata": {},
   "outputs": [
    {
     "data": {
      "text/plain": [
       "[2, 4, 6, 8, 44]"
      ]
     },
     "execution_count": 43,
     "metadata": {},
     "output_type": "execute_result"
    }
   ],
   "source": [
    "l=[2,3,4,5,6,7,8,9,44]\n",
    "arg_p(l)"
   ]
  },
  {
   "cell_type": "code",
   "execution_count": 45,
   "id": "8d0baec6",
   "metadata": {},
   "outputs": [
    {
     "ename": "TypeError",
     "evalue": "arg_p() takes 1 positional argument but 3 were given",
     "output_type": "error",
     "traceback": [
      "\u001b[1;31m---------------------------------------------------------------------------\u001b[0m",
      "\u001b[1;31mTypeError\u001b[0m                                 Traceback (most recent call last)",
      "\u001b[1;32m~\\AppData\\Local\\Temp\\ipykernel_1984\\1314218494.py\u001b[0m in \u001b[0;36m<module>\u001b[1;34m\u001b[0m\n\u001b[1;32m----> 1\u001b[1;33m \u001b[0marg_p\u001b[0m\u001b[1;33m(\u001b[0m\u001b[1;36m2\u001b[0m\u001b[1;33m,\u001b[0m\u001b[1;36m3\u001b[0m\u001b[1;33m,\u001b[0m\u001b[1;36m4\u001b[0m\u001b[1;33m)\u001b[0m\u001b[1;33m\u001b[0m\u001b[1;33m\u001b[0m\u001b[0m\n\u001b[0m",
      "\u001b[1;31mTypeError\u001b[0m: arg_p() takes 1 positional argument but 3 were given"
     ]
    }
   ],
   "source": [
    "arg_p(2,3,4)"
   ]
  },
  {
   "cell_type": "code",
   "execution_count": 47,
   "id": "1d125658",
   "metadata": {},
   "outputs": [],
   "source": [
    "tup=(1,2,3,4)"
   ]
  },
  {
   "cell_type": "code",
   "execution_count": 48,
   "id": "92ca35ee",
   "metadata": {},
   "outputs": [
    {
     "data": {
      "text/plain": [
       "[2, 4]"
      ]
     },
     "execution_count": 48,
     "metadata": {},
     "output_type": "execute_result"
    }
   ],
   "source": [
    "# because tup is considered as single argument\n",
    "arg_p(tup)"
   ]
  },
  {
   "cell_type": "code",
   "execution_count": 40,
   "id": "405f4e72",
   "metadata": {},
   "outputs": [],
   "source": [
    "# # *args is use to pass variables as tuple in a function \n",
    "# The *args parameter allows us to pass a variable number of positional arguments to a function.\n",
    "# It collects all the positional arguments into a tuple within the function.\n",
    "\n",
    "def arg_finder(*args):\n",
    "    for i in args:\n",
    "        print(i*2)"
   ]
  },
  {
   "cell_type": "code",
   "execution_count": 41,
   "id": "da0628e1",
   "metadata": {},
   "outputs": [
    {
     "name": "stdout",
     "output_type": "stream",
     "text": [
      "4\n",
      "6\n",
      "8\n",
      "10\n",
      "12\n"
     ]
    }
   ],
   "source": [
    "arg_finder(2,3,4,5,6)"
   ]
  },
  {
   "cell_type": "code",
   "execution_count": 44,
   "id": "7ff19af1",
   "metadata": {},
   "outputs": [
    {
     "name": "stdout",
     "output_type": "stream",
     "text": [
      "[2, 3, 4, 5, 6, 7, 8, 9, 44, 2, 3, 4, 5, 6, 7, 8, 9, 44]\n"
     ]
    }
   ],
   "source": [
    "# In args passing list as input , it is re wrtting list 2 times beacuse i am printing i*2\n",
    "#while finding reason why ?\n",
    "# In essence, when using *args, whether you pass a list or a tuple, the function treats the elements as separate arguments. \n",
    "# The distinction between passing a list or a tuple becomes more relevant when the function expects \n",
    "# separate arguments rather than a single iterable argument.\n",
    "# If you don't unpack the list or tuple using *, the entire list or tuple will be treated as a single argument:\n",
    "\n",
    "\n",
    "arg_finder(l)"
   ]
  },
  {
   "cell_type": "markdown",
   "id": "601d06ba",
   "metadata": {},
   "source": [
    "#### Q3. What is an iterator in python? Name the method used to initialise the iterator object and the method used for iteration. Use these methods to print the first five elements of the given list [2, 4, 6, 8, 10, 12, 14,16, 18, 20]."
   ]
  },
  {
   "cell_type": "markdown",
   "id": "b796b0aa",
   "metadata": {},
   "source": [
    "an iterator is an object that allows us to iterate (loop) through a collection of elements, such as a list or other iterable data types, one element at a time. Iterators provide a way to access elements sequentially without needing to know the underlying data structure. Iterators are commonly used in for loops.\n",
    "\n",
    "__iter__() Method (Initialization):\n",
    "\n",
    "The __iter__() method is used to initialize and return an iterator object.\n",
    "It is called when you create an iterator for a collection or object.\n",
    "The iterator object should have a __next__() method implemented to fetch the next element.\n",
    "\n",
    "__next__() Method (Iteration):\n",
    "\n",
    "The __next__() method is used to retrieve the next element from the iterator.\n",
    "It raises the StopIteration exception when there are no more elements to be fetched.\n",
    "When using a loop to iterate over an iterator, the __next__() method is automatically called until the StopIteration exception is raised."
   ]
  },
  {
   "cell_type": "code",
   "execution_count": 7,
   "id": "29057a93",
   "metadata": {},
   "outputs": [
    {
     "name": "stdout",
     "output_type": "stream",
     "text": [
      "2\n",
      "4\n",
      "6\n",
      "8\n",
      "10\n"
     ]
    }
   ],
   "source": [
    "mylist=[2,4,6,8,10,12,14,16,18,20]\n",
    "#intializing iter object \n",
    "iterator=iter(mylist)\n",
    "\n",
    "for _ in range(5):\n",
    "    # intializing next methode for first 5 element.\n",
    "    element=next(iterator)\n",
    "    print(element)\n"
   ]
  },
  {
   "cell_type": "markdown",
   "id": "0beb6236",
   "metadata": {},
   "source": [
    "Q4. What is a generator function in python? Why yield keyword is used? Give an example of a generator\n",
    "function."
   ]
  },
  {
   "cell_type": "markdown",
   "id": "874867a8",
   "metadata": {},
   "source": [
    "\n",
    "A generator function in Python is a special type of function that returns an iterator, which can be used to generate a sequence of values lazily (on-demand) rather than computing and storing all the values at once. This approach is memory-efficient and is particularly useful when dealing with large or infinite sequences.\n",
    "\n",
    "The yield keyword is used in a generator function to indicate where the function should pause its execution and yield a value to the caller. The state of the function is saved, allowing it to resume execution later from where it left off. This process is known as generator suspension.\n",
    "\n",
    "The main advantages of using generator functions with the yield keyword are:\n",
    "\n",
    "Memory Efficiency: Generators produce values one at a time and do not store the entire sequence in memory. This is especially beneficial for handling large datasets.\n",
    "\n",
    "Lazy Evaluation: Values are generated only when requested, leading to more efficient resource usage and faster performance in certain scenarios."
   ]
  },
  {
   "cell_type": "code",
   "execution_count": 1,
   "id": "425cf5b3",
   "metadata": {},
   "outputs": [],
   "source": [
    "def even_number(n):\n",
    "    i=0\n",
    "    while i<n:\n",
    "        yield i\n",
    "        i+=2"
   ]
  },
  {
   "cell_type": "code",
   "execution_count": 2,
   "id": "9ce74c92",
   "metadata": {},
   "outputs": [
    {
     "name": "stdout",
     "output_type": "stream",
     "text": [
      "0\n",
      "2\n",
      "4\n",
      "6\n",
      "8\n",
      "10\n",
      "12\n",
      "14\n",
      "16\n",
      "18\n"
     ]
    }
   ],
   "source": [
    "num=even_number(20)\n",
    "for i in num:\n",
    "    print(i)"
   ]
  },
  {
   "cell_type": "markdown",
   "id": "d27b4cb7",
   "metadata": {},
   "source": [
    "#### Q5. Create a generator function for prime numbers less than 1000. Use the next() method to print the first 20 prime numbers."
   ]
  },
  {
   "cell_type": "code",
   "execution_count": 2,
   "id": "a29f0166",
   "metadata": {},
   "outputs": [
    {
     "name": "stdout",
     "output_type": "stream",
     "text": [
      "2\n",
      "3\n",
      "5\n",
      "7\n",
      "11\n",
      "13\n",
      "17\n",
      "19\n",
      "23\n",
      "29\n",
      "31\n",
      "37\n",
      "41\n",
      "43\n",
      "47\n",
      "53\n",
      "59\n",
      "61\n",
      "67\n",
      "71\n"
     ]
    }
   ],
   "source": [
    "def generate_primes(limit):\n",
    "    \n",
    "    #primes: This is a list that will store the prime numbers as they are found.\n",
    "#    num: This variable represents the current number being checked for primality. It starts from 2, as 2 is the smallest prime.\n",
    "    primes = []\n",
    "    num = 2\n",
    "   #The generator function uses a while loop that continues as long as the num is less than the specified limit\n",
    "   #Inside the loop, the code checks whether the current num is prime:\n",
    "    #is_prime: This boolean variable is set to True if num is determined to be prime.\n",
    "    #The all() function is used to iterate through the primes list and check if num is not divisible by any of the primes found so far.\n",
    "    #If num is divisible by any prime, is_prime will be set to False.\n",
    "    while num < limit:\n",
    "        is_prime = all(num % prime != 0 for prime in primes)\n",
    "        if is_prime:\n",
    "            primes.append(num)\n",
    "    #If the num is determined to be prime (is_prime is True), it is added to the primes list, \n",
    "#     and then num is yielded using the yield keyword. This means that the generator will produce the current prime number and \n",
    "#     then continue with the next iteration.            \n",
    "            yield num\n",
    "        num += 1\n",
    "\n",
    "# Create a generator instance\n",
    "prime_generator = generate_primes(1000)\n",
    "\n",
    "# Print the first 20 prime numbers\n",
    "for _ in range(20):\n",
    "    print(next(prime_generator))\n"
   ]
  },
  {
   "cell_type": "markdown",
   "id": "0db7ef82",
   "metadata": {},
   "source": [
    "###Q6. Write a python program to print the first 10 Fibonacci numbers using a while loop."
   ]
  },
  {
   "cell_type": "code",
   "execution_count": 3,
   "id": "b9aa4e6d",
   "metadata": {},
   "outputs": [],
   "source": [
    "def fibonacci(n):\n",
    "    a,b=0,1\n",
    "    for i in range(n):\n",
    "        yield a\n",
    "        a,b=b,a+b\n",
    "    "
   ]
  },
  {
   "cell_type": "code",
   "execution_count": 5,
   "id": "9df2dfb9",
   "metadata": {},
   "outputs": [
    {
     "name": "stdout",
     "output_type": "stream",
     "text": [
      "0\n",
      "1\n",
      "1\n",
      "2\n",
      "3\n",
      "5\n",
      "8\n",
      "13\n",
      "21\n",
      "34\n",
      "55\n",
      "89\n",
      "144\n",
      "233\n",
      "377\n",
      "610\n",
      "987\n",
      "1597\n",
      "2584\n",
      "4181\n"
     ]
    }
   ],
   "source": [
    "for i in fibonacci(20):\n",
    "    print(i)"
   ]
  },
  {
   "cell_type": "markdown",
   "id": "1069a5f1",
   "metadata": {},
   "source": [
    "Q7. Write a List Comprehension to iterate through the given string: ‘pwskills’.\n",
    "Expected output: ['p', 'w', 's', 'k', 'i', 'l', 'l', 's']"
   ]
  },
  {
   "cell_type": "code",
   "execution_count": 7,
   "id": "afd55308",
   "metadata": {},
   "outputs": [
    {
     "name": "stdout",
     "output_type": "stream",
     "text": [
      "['p', 'w', 's', 'k', 'i', 'l', 'l', 's']\n"
     ]
    }
   ],
   "source": [
    "# In this list comprehension:\n",
    "# char iterates over each character in the input_string.\n",
    "# The if condition checks whether the current character char is present in the string 'wskil'.\n",
    "# If the condition is True, the character is included in the output_list.\n",
    "\n",
    "\n",
    "str1='pwskills'\n",
    "output=[char for char in str1 if char in 'pwskills']\n",
    "print(output)"
   ]
  },
  {
   "cell_type": "markdown",
   "id": "03deda0c",
   "metadata": {},
   "source": [
    "##### Q8. Write a python program to check whether a given number is Palindrome or not using a while loop."
   ]
  },
  {
   "cell_type": "code",
   "execution_count": 10,
   "id": "f45be05c",
   "metadata": {},
   "outputs": [
    {
     "name": "stdout",
     "output_type": "stream",
     "text": [
      "Enter a number: 1001\n",
      "1001 is a palindrome.\n"
     ]
    }
   ],
   "source": [
    "def is_palindrome(number):\n",
    "    original_number = number\n",
    "    reverse_number = 0\n",
    "    \n",
    "    while number > 0:\n",
    "        digit = number % 10\n",
    "        reverse_number = reverse_number * 10 + digit\n",
    "        number //= 10\n",
    "    \n",
    "    return original_number == reverse_number\n",
    "\n",
    "# Get input from the user\n",
    "num = int(input(\"Enter a number: \"))\n",
    "\n",
    "if is_palindrome(num):\n",
    "    print(f\"{num} is a palindrome.\")\n",
    "else:\n",
    "    print(f\"{num} is not a palindrome.\")\n"
   ]
  },
  {
   "cell_type": "markdown",
   "id": "d5673f10",
   "metadata": {},
   "source": [
    "##### Q9. Write a code to print odd numbers from 1 to 100 using list comprehension."
   ]
  },
  {
   "cell_type": "code",
   "execution_count": 26,
   "id": "580d173c",
   "metadata": {},
   "outputs": [
    {
     "data": {
      "text/plain": [
       "[1,\n",
       " 3,\n",
       " 5,\n",
       " 7,\n",
       " 9,\n",
       " 11,\n",
       " 13,\n",
       " 15,\n",
       " 17,\n",
       " 19,\n",
       " 21,\n",
       " 23,\n",
       " 25,\n",
       " 27,\n",
       " 29,\n",
       " 31,\n",
       " 33,\n",
       " 35,\n",
       " 37,\n",
       " 39,\n",
       " 41,\n",
       " 43,\n",
       " 45,\n",
       " 47,\n",
       " 49,\n",
       " 51,\n",
       " 53,\n",
       " 55,\n",
       " 57,\n",
       " 59,\n",
       " 61,\n",
       " 63,\n",
       " 65,\n",
       " 67,\n",
       " 69,\n",
       " 71,\n",
       " 73,\n",
       " 75,\n",
       " 77,\n",
       " 79,\n",
       " 81,\n",
       " 83,\n",
       " 85,\n",
       " 87,\n",
       " 89,\n",
       " 91,\n",
       " 93,\n",
       " 95,\n",
       " 97,\n",
       " 99]"
      ]
     },
     "execution_count": 26,
     "metadata": {},
     "output_type": "execute_result"
    }
   ],
   "source": [
    "odd_list=[element for element in range(1,101) if element%2 !=0]\n",
    "odd_list"
   ]
  },
  {
   "cell_type": "code",
   "execution_count": 20,
   "id": "6427e95b",
   "metadata": {},
   "outputs": [
    {
     "data": {
      "text/plain": [
       "[1,\n",
       " 3,\n",
       " 5,\n",
       " 7,\n",
       " 9,\n",
       " 11,\n",
       " 13,\n",
       " 15,\n",
       " 17,\n",
       " 19,\n",
       " 21,\n",
       " 23,\n",
       " 25,\n",
       " 27,\n",
       " 29,\n",
       " 31,\n",
       " 33,\n",
       " 35,\n",
       " 37,\n",
       " 39,\n",
       " 41,\n",
       " 43,\n",
       " 45,\n",
       " 47,\n",
       " 49,\n",
       " 51,\n",
       " 53,\n",
       " 55,\n",
       " 57,\n",
       " 59,\n",
       " 61,\n",
       " 63,\n",
       " 65,\n",
       " 67,\n",
       " 69,\n",
       " 71,\n",
       " 73,\n",
       " 75,\n",
       " 77,\n",
       " 79,\n",
       " 81,\n",
       " 83,\n",
       " 85,\n",
       " 87,\n",
       " 89,\n",
       " 91,\n",
       " 93,\n",
       " 95,\n",
       " 97,\n",
       " 99]"
      ]
     },
     "execution_count": 20,
     "metadata": {},
     "output_type": "execute_result"
    }
   ],
   "source": [
    "list1=range(100)\n",
    "final_list=[]\n",
    "for i in list1:\n",
    "    if i%2 !=0:\n",
    "        final_list.append(i)\n",
    "final_list"
   ]
  },
  {
   "cell_type": "code",
   "execution_count": 18,
   "id": "790e74fe",
   "metadata": {},
   "outputs": [],
   "source": [
    "def odd_number(n):\n",
    "    for i in n:\n",
    "        if i%2 !=0 :\n",
    "            print(i)        "
   ]
  },
  {
   "cell_type": "code",
   "execution_count": 19,
   "id": "b3c2121b",
   "metadata": {},
   "outputs": [
    {
     "name": "stdout",
     "output_type": "stream",
     "text": [
      "1\n",
      "3\n",
      "5\n",
      "7\n",
      "9\n",
      "11\n",
      "13\n",
      "15\n",
      "17\n",
      "19\n",
      "21\n",
      "23\n",
      "25\n",
      "27\n",
      "29\n",
      "31\n",
      "33\n",
      "35\n",
      "37\n",
      "39\n",
      "41\n",
      "43\n",
      "45\n",
      "47\n",
      "49\n",
      "51\n",
      "53\n",
      "55\n",
      "57\n",
      "59\n",
      "61\n",
      "63\n",
      "65\n",
      "67\n",
      "69\n",
      "71\n",
      "73\n",
      "75\n",
      "77\n",
      "79\n",
      "81\n",
      "83\n",
      "85\n",
      "87\n",
      "89\n",
      "91\n",
      "93\n",
      "95\n",
      "97\n",
      "99\n"
     ]
    }
   ],
   "source": [
    "odd_number(range(100))"
   ]
  },
  {
   "cell_type": "code",
   "execution_count": null,
   "id": "95a51910",
   "metadata": {},
   "outputs": [],
   "source": []
  }
 ],
 "metadata": {
  "kernelspec": {
   "display_name": "Python 3 (ipykernel)",
   "language": "python",
   "name": "python3"
  },
  "language_info": {
   "codemirror_mode": {
    "name": "ipython",
    "version": 3
   },
   "file_extension": ".py",
   "mimetype": "text/x-python",
   "name": "python",
   "nbconvert_exporter": "python",
   "pygments_lexer": "ipython3",
   "version": "3.9.13"
  }
 },
 "nbformat": 4,
 "nbformat_minor": 5
}
