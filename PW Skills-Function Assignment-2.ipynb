{
 "cells": [
  {
   "cell_type": "markdown",
   "id": "679062dc",
   "metadata": {},
   "source": [
    "#### Q1. Create a python program to sort the given list of tuples based on integer value using a lambda function."
   ]
  },
  {
   "cell_type": "code",
   "execution_count": 13,
   "id": "4567810a",
   "metadata": {},
   "outputs": [],
   "source": [
    "# List of tuples representing names and number\n",
    "player =[('Sachin Tendulkar', 34357), ('Ricky Ponting', 27483), ('Jack Kallis', 25534), ('Virat Kohli', 24936)]\n",
    "\n",
    "# Sorting the list of tuples based on age using a lambda function\n",
    "final_sorted=sorted(player,key=lambda player:player[1])"
   ]
  },
  {
   "cell_type": "code",
   "execution_count": 14,
   "id": "e1325fe8",
   "metadata": {},
   "outputs": [
    {
     "name": "stdout",
     "output_type": "stream",
     "text": [
      "[('Virat Kohli', 24936), ('Jack Kallis', 25534), ('Ricky Ponting', 27483), ('Sachin Tendulkar', 34357)]\n"
     ]
    }
   ],
   "source": [
    "print(final_sorted)"
   ]
  },
  {
   "cell_type": "code",
   "execution_count": 15,
   "id": "3916b4b3",
   "metadata": {},
   "outputs": [],
   "source": [
    "# next examples\n",
    "tuples=(1,2,3,4,5,6,0,2,33,11,44,22)"
   ]
  },
  {
   "cell_type": "code",
   "execution_count": 6,
   "id": "e6f63d1a",
   "metadata": {},
   "outputs": [],
   "source": [
    "list1=list(tuples)"
   ]
  },
  {
   "cell_type": "code",
   "execution_count": 9,
   "id": "0e0d3178",
   "metadata": {},
   "outputs": [
    {
     "data": {
      "text/plain": [
       "[0, 1, 2, 2, 3, 4, 5, 6, 11, 22, 33, 44]"
      ]
     },
     "execution_count": 9,
     "metadata": {},
     "output_type": "execute_result"
    }
   ],
   "source": [
    "sorted(list1,key=lambda list1: list1)"
   ]
  },
  {
   "cell_type": "markdown",
   "id": "816ff897",
   "metadata": {},
   "source": [
    "#### Q2. Write a Python Program to find the squares of all the numbers in the given list of integers using lambda and map functions.[1, 2, 3, 4, 5, 6, 7, 8, 9, 10]"
   ]
  },
  {
   "cell_type": "code",
   "execution_count": 16,
   "id": "c05a1407",
   "metadata": {},
   "outputs": [],
   "source": [
    "list1=[1, 2, 3, 4, 5, 6, 7, 8, 9, 10]"
   ]
  },
  {
   "cell_type": "code",
   "execution_count": 23,
   "id": "128fa98c",
   "metadata": {},
   "outputs": [],
   "source": [
    "# Using Lambda Functions\n",
    "\n",
    "Square=map(lambda list1:list1**2,list1)"
   ]
  },
  {
   "cell_type": "code",
   "execution_count": 25,
   "id": "2d34d1a3",
   "metadata": {},
   "outputs": [
    {
     "name": "stdout",
     "output_type": "stream",
     "text": [
      "[1, 4, 9, 16, 25, 36, 49, 64, 81, 100]\n"
     ]
    }
   ],
   "source": [
    "print(list(Square))"
   ]
  },
  {
   "cell_type": "markdown",
   "id": "e53e842b",
   "metadata": {},
   "source": [
    "#### Q3. Write a python program to convert the given list of integers into a tuple of strings. Use map and lambda functions\n",
    "##### Given String: [1, 2, 3, 4, 5, 6, 7, 8, 9, 10]"
   ]
  },
  {
   "cell_type": "code",
   "execution_count": 1,
   "id": "05fd1411",
   "metadata": {},
   "outputs": [
    {
     "data": {
      "text/plain": [
       "list"
      ]
     },
     "execution_count": 1,
     "metadata": {},
     "output_type": "execute_result"
    }
   ],
   "source": [
    "list1=[1,2,3,4,5,6,7,8,9,10]\n",
    "type(list1)"
   ]
  },
  {
   "cell_type": "code",
   "execution_count": 8,
   "id": "66b12bef",
   "metadata": {},
   "outputs": [],
   "source": [
    "aa=tuple(map(lambda list1:str(list1), list1))"
   ]
  },
  {
   "cell_type": "code",
   "execution_count": 9,
   "id": "8f21591f",
   "metadata": {},
   "outputs": [
    {
     "name": "stdout",
     "output_type": "stream",
     "text": [
      "('1', '2', '3', '4', '5', '6', '7', '8', '9', '10')\n"
     ]
    }
   ],
   "source": [
    "print(aa)"
   ]
  },
  {
   "cell_type": "markdown",
   "id": "f0b98d84",
   "metadata": {},
   "source": [
    "##### Q4. Write a python program using reduce function to compute the product of a list containing numbers from 1 to 25."
   ]
  },
  {
   "cell_type": "code",
   "execution_count": 12,
   "id": "1acb3cf2",
   "metadata": {},
   "outputs": [
    {
     "data": {
      "text/plain": [
       "15511210043330985984000000"
      ]
     },
     "execution_count": 12,
     "metadata": {},
     "output_type": "execute_result"
    }
   ],
   "source": [
    "from functools import reduce\n",
    "list2=range(1,26)\n",
    "reduce(lambda x,y:x*y,list2)"
   ]
  },
  {
   "cell_type": "markdown",
   "id": "988380ef",
   "metadata": {},
   "source": [
    "##### Q5. Write a python program to filter the numbers in a given list that are divisible by 2 and 3 using the filter function. [2, 3, 6, 9, 27, 60, 90, 120, 55, 46]"
   ]
  },
  {
   "cell_type": "code",
   "execution_count": 13,
   "id": "a4f6db9a",
   "metadata": {},
   "outputs": [],
   "source": [
    "list3=[2, 3, 6, 9, 27, 60, 90, 120, 55, 46]"
   ]
  },
  {
   "cell_type": "code",
   "execution_count": 29,
   "id": "70e0d7e8",
   "metadata": {},
   "outputs": [],
   "source": [
    "dd=filter(lambda list3:list3%2==0 and list3%3==0,list3)"
   ]
  },
  {
   "cell_type": "code",
   "execution_count": 30,
   "id": "21cc15bf",
   "metadata": {},
   "outputs": [
    {
     "name": "stdout",
     "output_type": "stream",
     "text": [
      "[6, 60, 90, 120]\n"
     ]
    }
   ],
   "source": [
    "print(list(dd))"
   ]
  },
  {
   "cell_type": "code",
   "execution_count": 34,
   "id": "25c09df1",
   "metadata": {},
   "outputs": [
    {
     "name": "stdout",
     "output_type": "stream",
     "text": [
      "6\n",
      "60\n",
      "90\n",
      "120\n"
     ]
    }
   ],
   "source": [
    "for i in list3:\n",
    "    if (i%2 == 0 and i%3 == 0):\n",
    "        print(i)"
   ]
  },
  {
   "cell_type": "markdown",
   "id": "d5af263d",
   "metadata": {},
   "source": [
    "##### Q6. Write a python program to find palindromes in the given list of strings using lambda and filter function. ['python', 'php', 'aba', 'radar', 'level']"
   ]
  },
  {
   "cell_type": "code",
   "execution_count": 42,
   "id": "1d07a776",
   "metadata": {},
   "outputs": [],
   "source": [
    " word_list=['python', 'php', 'aba', 'radar', 'level']"
   ]
  },
  {
   "cell_type": "code",
   "execution_count": 43,
   "id": "091c07ed",
   "metadata": {},
   "outputs": [
    {
     "data": {
      "text/plain": [
       "['level', 'radar', 'aba', 'php', 'python']"
      ]
     },
     "execution_count": 43,
     "metadata": {},
     "output_type": "execute_result"
    }
   ],
   "source": [
    "word_list[::-1]"
   ]
  },
  {
   "cell_type": "code",
   "execution_count": 44,
   "id": "38051ad7",
   "metadata": {},
   "outputs": [],
   "source": [
    "def is_palindromes(word):\n",
    "    return word==word[::-1]"
   ]
  },
  {
   "cell_type": "code",
   "execution_count": 45,
   "id": "d3164fe2",
   "metadata": {},
   "outputs": [],
   "source": [
    "def find_palindromes(words):\n",
    "    palindromes=[]\n",
    "    for word in words:\n",
    "        if is_palindromes(word):\n",
    "            palindromes.append(word)\n",
    "    return palindromes\n",
    "            "
   ]
  },
  {
   "cell_type": "code",
   "execution_count": 46,
   "id": "91c87b81",
   "metadata": {},
   "outputs": [
    {
     "data": {
      "text/plain": [
       "['php', 'aba', 'radar', 'level']"
      ]
     },
     "execution_count": 46,
     "metadata": {},
     "output_type": "execute_result"
    }
   ],
   "source": [
    "find_palindromes(word_list)"
   ]
  },
  {
   "cell_type": "code",
   "execution_count": null,
   "id": "ece0b862",
   "metadata": {},
   "outputs": [],
   "source": []
  }
 ],
 "metadata": {
  "kernelspec": {
   "display_name": "Python 3 (ipykernel)",
   "language": "python",
   "name": "python3"
  },
  "language_info": {
   "codemirror_mode": {
    "name": "ipython",
    "version": 3
   },
   "file_extension": ".py",
   "mimetype": "text/x-python",
   "name": "python",
   "nbconvert_exporter": "python",
   "pygments_lexer": "ipython3",
   "version": "3.9.13"
  }
 },
 "nbformat": 4,
 "nbformat_minor": 5
}
