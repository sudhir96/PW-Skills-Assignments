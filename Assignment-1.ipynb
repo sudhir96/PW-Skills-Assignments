{
 "cells": [
  {
   "cell_type": "markdown",
   "id": "52cb5c54",
   "metadata": {},
   "source": [
    "Q1.Create one variable containing following type of data:\n"
   ]
  },
  {
   "cell_type": "code",
   "execution_count": 1,
   "id": "ecc4d233",
   "metadata": {},
   "outputs": [],
   "source": [
    "vara='abc'\n",
    "varb=['a','b','c','d','4']\n",
    "varc=3.44\n",
    "vard=('a','b','c','d')"
   ]
  },
  {
   "cell_type": "code",
   "execution_count": 2,
   "id": "0488f076",
   "metadata": {},
   "outputs": [
    {
     "data": {
      "text/plain": [
       "str"
      ]
     },
     "execution_count": 2,
     "metadata": {},
     "output_type": "execute_result"
    }
   ],
   "source": [
    "type(vara)"
   ]
  },
  {
   "cell_type": "code",
   "execution_count": 3,
   "id": "d3234a0c",
   "metadata": {},
   "outputs": [
    {
     "data": {
      "text/plain": [
       "list"
      ]
     },
     "execution_count": 3,
     "metadata": {},
     "output_type": "execute_result"
    }
   ],
   "source": [
    "type(varb)"
   ]
  },
  {
   "cell_type": "code",
   "execution_count": 4,
   "id": "c35f0e39",
   "metadata": {},
   "outputs": [
    {
     "data": {
      "text/plain": [
       "float"
      ]
     },
     "execution_count": 4,
     "metadata": {},
     "output_type": "execute_result"
    }
   ],
   "source": [
    "type(varc)"
   ]
  },
  {
   "cell_type": "code",
   "execution_count": 5,
   "id": "096fa251",
   "metadata": {},
   "outputs": [
    {
     "data": {
      "text/plain": [
       "tuple"
      ]
     },
     "execution_count": 5,
     "metadata": {},
     "output_type": "execute_result"
    }
   ],
   "source": [
    "type(vard)"
   ]
  },
  {
   "cell_type": "markdown",
   "id": "51c10abe",
   "metadata": {},
   "source": [
    "Q2.What will be the data type of the above given variable."
   ]
  },
  {
   "cell_type": "code",
   "execution_count": 6,
   "id": "46f794b4",
   "metadata": {},
   "outputs": [],
   "source": [
    "var1 = ''\n",
    "var2 = '[ DS , ML , Python]'\n",
    "var3 = [ 'DS' , 'ML' , 'Python' ]\n",
    "var4= 1."
   ]
  },
  {
   "cell_type": "code",
   "execution_count": 7,
   "id": "6b866ce0",
   "metadata": {},
   "outputs": [
    {
     "data": {
      "text/plain": [
       "str"
      ]
     },
     "execution_count": 7,
     "metadata": {},
     "output_type": "execute_result"
    }
   ],
   "source": [
    "type(var1)"
   ]
  },
  {
   "cell_type": "code",
   "execution_count": 8,
   "id": "6e860900",
   "metadata": {},
   "outputs": [
    {
     "data": {
      "text/plain": [
       "str"
      ]
     },
     "execution_count": 8,
     "metadata": {},
     "output_type": "execute_result"
    }
   ],
   "source": [
    "type(var2)"
   ]
  },
  {
   "cell_type": "code",
   "execution_count": 9,
   "id": "a3a8eb7e",
   "metadata": {},
   "outputs": [
    {
     "data": {
      "text/plain": [
       "list"
      ]
     },
     "execution_count": 9,
     "metadata": {},
     "output_type": "execute_result"
    }
   ],
   "source": [
    "type(var3)"
   ]
  },
  {
   "cell_type": "code",
   "execution_count": 10,
   "id": "aeb2faa1",
   "metadata": {},
   "outputs": [
    {
     "data": {
      "text/plain": [
       "float"
      ]
     },
     "execution_count": 10,
     "metadata": {},
     "output_type": "execute_result"
    }
   ],
   "source": [
    "type(var4)"
   ]
  },
  {
   "cell_type": "markdown",
   "id": "85a576b6",
   "metadata": {},
   "source": [
    "Q3. Explain the use of the following operators using an example:"
   ]
  },
  {
   "cell_type": "markdown",
   "id": "139d7b86",
   "metadata": {},
   "source": [
    "1) / is division operator use to divide with decimals for examples below"
   ]
  },
  {
   "cell_type": "code",
   "execution_count": 11,
   "id": "ea9c4e52",
   "metadata": {},
   "outputs": [],
   "source": [
    "a=10/2"
   ]
  },
  {
   "cell_type": "code",
   "execution_count": 12,
   "id": "ea7fab31",
   "metadata": {},
   "outputs": [
    {
     "name": "stdout",
     "output_type": "stream",
     "text": [
      "5.0\n"
     ]
    },
    {
     "data": {
      "text/plain": [
       "(None, float)"
      ]
     },
     "execution_count": 12,
     "metadata": {},
     "output_type": "execute_result"
    }
   ],
   "source": [
    "print(a),type(a)"
   ]
  },
  {
   "cell_type": "markdown",
   "id": "9e11a816",
   "metadata": {},
   "source": [
    "2) % it's called modulas operator , it's uses when we need reminders "
   ]
  },
  {
   "cell_type": "code",
   "execution_count": 13,
   "id": "6d96dd2e",
   "metadata": {},
   "outputs": [
    {
     "name": "stdout",
     "output_type": "stream",
     "text": [
      "1\n"
     ]
    }
   ],
   "source": [
    "b=9\n",
    "c=9%2\n",
    "print(c)"
   ]
  },
  {
   "cell_type": "markdown",
   "id": "107011d9",
   "metadata": {},
   "source": [
    "3) // : it's called floor division , so when we want only qoutient of division. for exm"
   ]
  },
  {
   "cell_type": "code",
   "execution_count": 14,
   "id": "a4f545e1",
   "metadata": {},
   "outputs": [
    {
     "name": "stdout",
     "output_type": "stream",
     "text": [
      "5\n"
     ]
    }
   ],
   "source": [
    "aa=11\n",
    "bb=aa//2\n",
    "print(bb)"
   ]
  },
  {
   "cell_type": "markdown",
   "id": "e217edf7",
   "metadata": {},
   "source": [
    "4) ** : it's Expontentiation so when we need to calculate exponential of number it can be used. for ex"
   ]
  },
  {
   "cell_type": "code",
   "execution_count": 15,
   "id": "5594591d",
   "metadata": {},
   "outputs": [
    {
     "name": "stdout",
     "output_type": "stream",
     "text": [
      "256\n"
     ]
    }
   ],
   "source": [
    "cc=4\n",
    "dd=cc**4\n",
    "print(dd)"
   ]
  },
  {
   "cell_type": "markdown",
   "id": "09ef921f",
   "metadata": {},
   "source": [
    "Q4. Create a list of length 10 of your choice containing multiple types of data. Using for loop print the\n",
    "element and its data type."
   ]
  },
  {
   "cell_type": "code",
   "execution_count": 16,
   "id": "0bc7a3cf",
   "metadata": {},
   "outputs": [],
   "source": [
    "list=['a',('b'),3,cc,bb,4.5]"
   ]
  },
  {
   "cell_type": "code",
   "execution_count": 17,
   "id": "49cfd159",
   "metadata": {},
   "outputs": [
    {
     "name": "stdout",
     "output_type": "stream",
     "text": [
      "<class 'str'>\n",
      "a\n",
      "<class 'str'>\n",
      "b\n",
      "<class 'int'>\n",
      "3\n",
      "<class 'int'>\n",
      "4\n",
      "<class 'int'>\n",
      "5\n",
      "<class 'float'>\n",
      "4.5\n"
     ]
    }
   ],
   "source": [
    "for i in list:\n",
    "    print( type(i))\n",
    "    print(i)\n",
    "    "
   ]
  },
  {
   "cell_type": "markdown",
   "id": "6eae1c88",
   "metadata": {},
   "source": [
    "Q5. Using a while loop, verify if the number A is purely divisible by number B and if so then how many\n",
    "times it can be divisible."
   ]
  },
  {
   "cell_type": "code",
   "execution_count": 18,
   "id": "26a99306",
   "metadata": {},
   "outputs": [
    {
     "name": "stdout",
     "output_type": "stream",
     "text": [
      "8\n"
     ]
    }
   ],
   "source": [
    "A=100\n",
    "count = 0\n",
    "B=2\n",
    "#I have taken 3 variables where A is 100 and B is 2 , count will check how many times A is Completely  divisible by B//\n",
    "while A >= B:\n",
    "# while loop check conditions where A is greater than B or not till A=B.\n",
    "    if A % B == 0:\n",
    "# After condition check next checkpoint is A % B modulus operator check remider zero means complete divisible \n",
    "        count += 1\n",
    "# Increment of count to check total count of division \n",
    "    B +=1\n",
    "# Increment of B will increase value of B after each iteration \n",
    "print(count) \n",
    "\n"
   ]
  },
  {
   "cell_type": "markdown",
   "id": "0757ab6d",
   "metadata": {},
   "source": [
    "Q6. Create a list containing 25 int type data. Using for loop and if-else condition print if the element is\n",
    "divisible by 3 or not."
   ]
  },
  {
   "cell_type": "code",
   "execution_count": 19,
   "id": "9245e923",
   "metadata": {},
   "outputs": [],
   "source": [
    "int_data=[1,2,3,4,5,6,7,8,9,10,11,12,13,14,15,16,17,18,19,20,21,22,23,24,25]"
   ]
  },
  {
   "cell_type": "code",
   "execution_count": 20,
   "id": "8244d7b8",
   "metadata": {},
   "outputs": [
    {
     "data": {
      "text/plain": [
       "list"
      ]
     },
     "execution_count": 20,
     "metadata": {},
     "output_type": "execute_result"
    }
   ],
   "source": [
    "type(int_data)"
   ]
  },
  {
   "cell_type": "code",
   "execution_count": 21,
   "id": "4a4e17eb",
   "metadata": {},
   "outputs": [
    {
     "name": "stdout",
     "output_type": "stream",
     "text": [
      "Number is not divisible by 3\n",
      "1\n",
      "Number is not divisible by 3\n",
      "2\n",
      "Number is divisible by 3\n",
      "3\n",
      "Number is not divisible by 3\n",
      "4\n",
      "Number is not divisible by 3\n",
      "5\n",
      "Number is divisible by 3\n",
      "6\n",
      "Number is not divisible by 3\n",
      "7\n",
      "Number is not divisible by 3\n",
      "8\n",
      "Number is divisible by 3\n",
      "9\n",
      "Number is not divisible by 3\n",
      "10\n",
      "Number is not divisible by 3\n",
      "11\n",
      "Number is divisible by 3\n",
      "12\n",
      "Number is not divisible by 3\n",
      "13\n",
      "Number is not divisible by 3\n",
      "14\n",
      "Number is divisible by 3\n",
      "15\n",
      "Number is not divisible by 3\n",
      "16\n",
      "Number is not divisible by 3\n",
      "17\n",
      "Number is divisible by 3\n",
      "18\n",
      "Number is not divisible by 3\n",
      "19\n",
      "Number is not divisible by 3\n",
      "20\n",
      "Number is divisible by 3\n",
      "21\n",
      "Number is not divisible by 3\n",
      "22\n",
      "Number is not divisible by 3\n",
      "23\n",
      "Number is divisible by 3\n",
      "24\n",
      "Number is not divisible by 3\n",
      "25\n"
     ]
    }
   ],
   "source": [
    "# J is slicing value or index value of the list \n",
    "j=0\n",
    "for i in int_data:\n",
    "    if int_data[j] % 3==0:\n",
    "        print('Number is divisible by 3')\n",
    "    else:\n",
    "        print('Number is not divisible by 3')\n",
    "    j+=1\n",
    "    print(j)\n",
    "        "
   ]
  },
  {
   "cell_type": "markdown",
   "id": "1b5b025e",
   "metadata": {},
   "source": [
    "Q7. What do you understand about mutable and immutable data types? Give examples for both showing\n",
    "this property."
   ]
  },
  {
   "cell_type": "code",
   "execution_count": 22,
   "id": "e77a9310",
   "metadata": {},
   "outputs": [
    {
     "name": "stdout",
     "output_type": "stream",
     "text": [
      "['aa', 'bb', 'cc', 4, 8, 9]\n"
     ]
    }
   ],
   "source": [
    "# mutable data type is editable we can slice and dice the mutable object for example : List and Dictionary\n",
    "list_a=['aa','bb','cc',4,8,9]\n",
    "print(list_a)"
   ]
  },
  {
   "cell_type": "code",
   "execution_count": 23,
   "id": "25efe7d6",
   "metadata": {},
   "outputs": [
    {
     "data": {
      "text/plain": [
       "list"
      ]
     },
     "execution_count": 23,
     "metadata": {},
     "output_type": "execute_result"
    }
   ],
   "source": [
    "type(list_a)"
   ]
  },
  {
   "cell_type": "code",
   "execution_count": 24,
   "id": "a986258e",
   "metadata": {},
   "outputs": [],
   "source": [
    "#Addition of new element in list data type\n",
    "list_a.append(2)\n",
    "list_a[2]='ddd'\n",
    "list_a.append('cc')"
   ]
  },
  {
   "cell_type": "code",
   "execution_count": 25,
   "id": "455a5bc4",
   "metadata": {},
   "outputs": [
    {
     "data": {
      "text/plain": [
       "['aa', 'bb', 'ddd', 4, 8, 9, 2, 'cc']"
      ]
     },
     "execution_count": 25,
     "metadata": {},
     "output_type": "execute_result"
    }
   ],
   "source": [
    "list_a"
   ]
  },
  {
   "cell_type": "code",
   "execution_count": 26,
   "id": "60978d70",
   "metadata": {},
   "outputs": [],
   "source": [
    "#dictionary data type operation\n",
    "#Dictionaries: Dictionaries are mutable collections of key-value pairs. \n",
    "#we can modify, add, or delete key-value pairs in a dictionary after it is created\n",
    "d={'a':'sudhir','b':'sarvan','c':'manish','d':'caitanya'}"
   ]
  },
  {
   "cell_type": "code",
   "execution_count": 27,
   "id": "44775429",
   "metadata": {},
   "outputs": [
    {
     "data": {
      "text/plain": [
       "dict"
      ]
     },
     "execution_count": 27,
     "metadata": {},
     "output_type": "execute_result"
    }
   ],
   "source": [
    "type(d)"
   ]
  },
  {
   "cell_type": "code",
   "execution_count": 28,
   "id": "b3c1e4af",
   "metadata": {},
   "outputs": [],
   "source": [
    "d['a']='Ramesh'"
   ]
  },
  {
   "cell_type": "code",
   "execution_count": 29,
   "id": "f84411a9",
   "metadata": {},
   "outputs": [
    {
     "data": {
      "text/plain": [
       "{'a': 'Ramesh', 'b': 'sarvan', 'c': 'manish', 'd': 'caitanya'}"
      ]
     },
     "execution_count": 29,
     "metadata": {},
     "output_type": "execute_result"
    }
   ],
   "source": [
    "d"
   ]
  },
  {
   "cell_type": "code",
   "execution_count": 30,
   "id": "45768174",
   "metadata": {},
   "outputs": [],
   "source": [
    "#Immutable objects are tuple, string, integer, float and boolean data type"
   ]
  },
  {
   "cell_type": "code",
   "execution_count": 31,
   "id": "054646b6",
   "metadata": {},
   "outputs": [],
   "source": [
    "#Tuple\n",
    "\n",
    "T=(2,3,4,5)"
   ]
  },
  {
   "cell_type": "code",
   "execution_count": 32,
   "id": "13bf3bbf",
   "metadata": {},
   "outputs": [
    {
     "data": {
      "text/plain": [
       "tuple"
      ]
     },
     "execution_count": 32,
     "metadata": {},
     "output_type": "execute_result"
    }
   ],
   "source": [
    "type(T)"
   ]
  },
  {
   "cell_type": "code",
   "execution_count": 33,
   "id": "ecae7bee",
   "metadata": {},
   "outputs": [
    {
     "data": {
      "text/plain": [
       "3"
      ]
     },
     "execution_count": 33,
     "metadata": {},
     "output_type": "execute_result"
    }
   ],
   "source": [
    "T[1]"
   ]
  },
  {
   "cell_type": "code",
   "execution_count": 34,
   "id": "19e76f74",
   "metadata": {},
   "outputs": [
    {
     "ename": "TypeError",
     "evalue": "'tuple' object does not support item assignment",
     "output_type": "error",
     "traceback": [
      "\u001b[1;31m---------------------------------------------------------------------------\u001b[0m",
      "\u001b[1;31mTypeError\u001b[0m                                 Traceback (most recent call last)",
      "\u001b[1;32m~\\AppData\\Local\\Temp\\ipykernel_14780\\254722757.py\u001b[0m in \u001b[0;36m<module>\u001b[1;34m\u001b[0m\n\u001b[1;32m----> 1\u001b[1;33m \u001b[0mT\u001b[0m\u001b[1;33m[\u001b[0m\u001b[1;36m1\u001b[0m\u001b[1;33m]\u001b[0m\u001b[1;33m=\u001b[0m\u001b[1;36m2\u001b[0m\u001b[1;33m\u001b[0m\u001b[1;33m\u001b[0m\u001b[0m\n\u001b[0m",
      "\u001b[1;31mTypeError\u001b[0m: 'tuple' object does not support item assignment"
     ]
    }
   ],
   "source": [
    "T[1]=2"
   ]
  },
  {
   "cell_type": "code",
   "execution_count": 35,
   "id": "d55bfa5c",
   "metadata": {},
   "outputs": [],
   "source": [
    "# We can slice their position but can not do anykind of operation on same\n",
    "Str='Hello'"
   ]
  },
  {
   "cell_type": "code",
   "execution_count": 36,
   "id": "a01d3565",
   "metadata": {},
   "outputs": [
    {
     "data": {
      "text/plain": [
       "'e'"
      ]
     },
     "execution_count": 36,
     "metadata": {},
     "output_type": "execute_result"
    }
   ],
   "source": [
    "Str[1]"
   ]
  },
  {
   "cell_type": "code",
   "execution_count": 37,
   "id": "5ce8098b",
   "metadata": {},
   "outputs": [
    {
     "ename": "TypeError",
     "evalue": "'str' object does not support item assignment",
     "output_type": "error",
     "traceback": [
      "\u001b[1;31m---------------------------------------------------------------------------\u001b[0m",
      "\u001b[1;31mTypeError\u001b[0m                                 Traceback (most recent call last)",
      "\u001b[1;32m~\\AppData\\Local\\Temp\\ipykernel_14780\\3015684945.py\u001b[0m in \u001b[0;36m<module>\u001b[1;34m\u001b[0m\n\u001b[1;32m----> 1\u001b[1;33m \u001b[0mStr\u001b[0m\u001b[1;33m[\u001b[0m\u001b[1;36m2\u001b[0m\u001b[1;33m]\u001b[0m\u001b[1;33m=\u001b[0m\u001b[1;34m'w'\u001b[0m\u001b[1;33m\u001b[0m\u001b[1;33m\u001b[0m\u001b[0m\n\u001b[0m",
      "\u001b[1;31mTypeError\u001b[0m: 'str' object does not support item assignment"
     ]
    }
   ],
   "source": [
    "Str[2]='w'"
   ]
  },
  {
   "cell_type": "code",
   "execution_count": 38,
   "id": "57a4480e",
   "metadata": {},
   "outputs": [],
   "source": [
    "# integer can not slice their positions \n",
    "Int=2345"
   ]
  },
  {
   "cell_type": "code",
   "execution_count": 40,
   "id": "38bd73bc",
   "metadata": {},
   "outputs": [
    {
     "data": {
      "text/plain": [
       "int"
      ]
     },
     "execution_count": 40,
     "metadata": {},
     "output_type": "execute_result"
    }
   ],
   "source": [
    "type(Int)"
   ]
  },
  {
   "cell_type": "code",
   "execution_count": 42,
   "id": "3bf6af2c",
   "metadata": {},
   "outputs": [
    {
     "ename": "TypeError",
     "evalue": "'int' object is not subscriptable",
     "output_type": "error",
     "traceback": [
      "\u001b[1;31m---------------------------------------------------------------------------\u001b[0m",
      "\u001b[1;31mTypeError\u001b[0m                                 Traceback (most recent call last)",
      "\u001b[1;32m~\\AppData\\Local\\Temp\\ipykernel_14780\\2209560401.py\u001b[0m in \u001b[0;36m<module>\u001b[1;34m\u001b[0m\n\u001b[1;32m----> 1\u001b[1;33m \u001b[0mInt\u001b[0m\u001b[1;33m[\u001b[0m\u001b[1;36m2\u001b[0m\u001b[1;33m]\u001b[0m\u001b[1;33m\u001b[0m\u001b[1;33m\u001b[0m\u001b[0m\n\u001b[0m",
      "\u001b[1;31mTypeError\u001b[0m: 'int' object is not subscriptable"
     ]
    }
   ],
   "source": [
    "Int[2]"
   ]
  },
  {
   "cell_type": "code",
   "execution_count": 45,
   "id": "4b5a0d24",
   "metadata": {},
   "outputs": [
    {
     "data": {
      "text/plain": [
       "float"
      ]
     },
     "execution_count": 45,
     "metadata": {},
     "output_type": "execute_result"
    }
   ],
   "source": [
    "# float can not slice their positions \n",
    "flt=3.444\n",
    "type(flt)"
   ]
  },
  {
   "cell_type": "code",
   "execution_count": 46,
   "id": "c8383a9c",
   "metadata": {},
   "outputs": [
    {
     "ename": "TypeError",
     "evalue": "'float' object is not subscriptable",
     "output_type": "error",
     "traceback": [
      "\u001b[1;31m---------------------------------------------------------------------------\u001b[0m",
      "\u001b[1;31mTypeError\u001b[0m                                 Traceback (most recent call last)",
      "\u001b[1;32m~\\AppData\\Local\\Temp\\ipykernel_14780\\2653500272.py\u001b[0m in \u001b[0;36m<module>\u001b[1;34m\u001b[0m\n\u001b[1;32m----> 1\u001b[1;33m \u001b[0mflt\u001b[0m\u001b[1;33m[\u001b[0m\u001b[1;36m2\u001b[0m\u001b[1;33m]\u001b[0m\u001b[1;33m\u001b[0m\u001b[1;33m\u001b[0m\u001b[0m\n\u001b[0m",
      "\u001b[1;31mTypeError\u001b[0m: 'float' object is not subscriptable"
     ]
    }
   ],
   "source": [
    "flt[2]"
   ]
  },
  {
   "cell_type": "code",
   "execution_count": 47,
   "id": "095c8e64",
   "metadata": {},
   "outputs": [
    {
     "data": {
      "text/plain": [
       "bool"
      ]
     },
     "execution_count": 47,
     "metadata": {},
     "output_type": "execute_result"
    }
   ],
   "source": [
    "#Boolean data type true or false\n",
    "aa=True\n",
    "type(aa)"
   ]
  },
  {
   "cell_type": "code",
   "execution_count": 48,
   "id": "33ec92ce",
   "metadata": {},
   "outputs": [
    {
     "ename": "TypeError",
     "evalue": "'bool' object is not subscriptable",
     "output_type": "error",
     "traceback": [
      "\u001b[1;31m---------------------------------------------------------------------------\u001b[0m",
      "\u001b[1;31mTypeError\u001b[0m                                 Traceback (most recent call last)",
      "\u001b[1;32m~\\AppData\\Local\\Temp\\ipykernel_14780\\1366190075.py\u001b[0m in \u001b[0;36m<module>\u001b[1;34m\u001b[0m\n\u001b[1;32m----> 1\u001b[1;33m \u001b[0maa\u001b[0m\u001b[1;33m[\u001b[0m\u001b[1;36m1\u001b[0m\u001b[1;33m]\u001b[0m\u001b[1;33m\u001b[0m\u001b[1;33m\u001b[0m\u001b[0m\n\u001b[0m",
      "\u001b[1;31mTypeError\u001b[0m: 'bool' object is not subscriptable"
     ]
    }
   ],
   "source": [
    "aa[1]"
   ]
  },
  {
   "cell_type": "code",
   "execution_count": null,
   "id": "590789dd",
   "metadata": {},
   "outputs": [],
   "source": []
  }
 ],
 "metadata": {
  "kernelspec": {
   "display_name": "Python 3 (ipykernel)",
   "language": "python",
   "name": "python3"
  },
  "language_info": {
   "codemirror_mode": {
    "name": "ipython",
    "version": 3
   },
   "file_extension": ".py",
   "mimetype": "text/x-python",
   "name": "python",
   "nbconvert_exporter": "python",
   "pygments_lexer": "ipython3",
   "version": "3.9.13"
  }
 },
 "nbformat": 4,
 "nbformat_minor": 5
}
