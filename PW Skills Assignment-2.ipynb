{
 "cells": [
  {
   "cell_type": "markdown",
   "id": "3c4832df",
   "metadata": {},
   "source": [
    "Q1. How do you comment code in Python? What are the different types of comments?"
   ]
  },
  {
   "cell_type": "code",
   "execution_count": 1,
   "id": "deff42e7",
   "metadata": {},
   "outputs": [],
   "source": [
    "# We can add comments to our code to provide explanations or notes that are not executed by the interpreter. \n",
    "#Comments help improve code readability and make it easier for others to understand our codes. \n",
    "#There are two types of comments in Python:\n",
    "#  1) Single-line comments: To create a single-line comment, we use the hash symbol (#) followed by the comment text. \n",
    "#Anything after the \"#\" symbol on the same line is considered a comment and will be ignored during execution.\n",
    "\n",
    "#  2) Multi-line comments or Docstrings: For longer comments or documentation, \n",
    "#     you can use multi-line strings (triple quotes) to create docstrings. \n",
    "#     Docstrings are often used for function, class, or module documentation.\n"
   ]
  },
  {
   "cell_type": "code",
   "execution_count": 4,
   "id": "47a34f47",
   "metadata": {},
   "outputs": [
    {
     "name": "stdout",
     "output_type": "stream",
     "text": [
      "Hi Sudhir Welcome to Assignment 2\n"
     ]
    }
   ],
   "source": [
    "print(\"Hi Sudhir Welcome to Assignment 2\")\n",
    "#Here the output of above code will greet me."
   ]
  },
  {
   "cell_type": "code",
   "execution_count": 5,
   "id": "bd2ae341",
   "metadata": {},
   "outputs": [],
   "source": [
    "\"\"\"\n",
    "This is a multi-line comment or docstring.\n",
    "It can span across multiple lines.\n",
    "Used for documenting functions, classes, or modules.\n",
    "\"\"\"\n",
    "def my_function():\n",
    "    \"\"\"This is a docstring for the my_function() function.\"\"\"\n",
    "    # Function implementation here\n"
   ]
  },
  {
   "cell_type": "markdown",
   "id": "516ce043",
   "metadata": {},
   "source": [
    "Q2. What are variables in Python? How do you declare and assign values to variables?"
   ]
  },
  {
   "cell_type": "code",
   "execution_count": 10,
   "id": "7fa5ae71",
   "metadata": {},
   "outputs": [
    {
     "name": "stdout",
     "output_type": "stream",
     "text": [
      "[{1, 2, 3, 4, 5}]\n"
     ]
    }
   ],
   "source": [
    "# In Python, variables are used to store and represent data. \n",
    "# They act as containers that hold values\n",
    "# which can be of various data types such as numbers, strings, lists, or more complex objects. \n",
    "# Variables allow you to manipulate and use data throughout your code.\n",
    "\n",
    "# Declaring and Assigning Values to Variables:\n",
    "\n",
    "# In Python, you don't need to explicitly declare variables with a data type; \n",
    "# they are dynamically typed. we can simply assign a value to a variable, and Python will determine its data type based on the value.\n",
    "\n",
    "# To declare and assign a value to a variable, use the following syntax:\n",
    "\n",
    "Variable_name= [] # variable with empty list we can store value inside list\n",
    "set1={1,2,3,4,5}\n",
    "Variable_name.append(set1) # Assigned value inside variable empty list\n",
    "print(Variable_name)"
   ]
  },
  {
   "cell_type": "markdown",
   "id": "c7bc2e21",
   "metadata": {},
   "source": [
    "Q3. How do you convert one data type to another in Python?"
   ]
  },
  {
   "cell_type": "code",
   "execution_count": 16,
   "id": "d0242ac2",
   "metadata": {},
   "outputs": [
    {
     "name": "stdout",
     "output_type": "stream",
     "text": [
      "2.34567 2\n"
     ]
    }
   ],
   "source": [
    "#Python, you can convert one data type to another using type casting or type conversion functions. \n",
    "# Python provides built-in functions for various data type conversions. \n",
    "# Here are some commonly used type conversion functions:\n",
    "\n",
    "# int(): Convert a value to an integer data type.\n",
    "var1=2.34567\n",
    "var2_int=int(var1)\n",
    "print(var1,   var2_int)# converted float into interger \n"
   ]
  },
  {
   "cell_type": "code",
   "execution_count": 24,
   "id": "cd9590fc",
   "metadata": {},
   "outputs": [
    {
     "name": "stdout",
     "output_type": "stream",
     "text": [
      "2.0\n",
      "42\n",
      "[1, 2, 3]\n",
      "(4, 5, 6)\n",
      "{'l', 'h', 'e', 'o'}\n",
      "{'a': 1, 'b': 2, 'c': 3}\n"
     ]
    }
   ],
   "source": [
    "# float(): Convert a value to a floating-point data type.\n",
    "var3_f=float(var2_int)\n",
    "print(var3_f)\n",
    "\n",
    "# str(): Convert a value to a string data type.\n",
    "num = 42\n",
    "num_str = str(num)  # num_str will be the string '42'\n",
    "print(num_str)\n",
    "\n",
    "# list(): Convert an iterable (e.g., tuple, string) to a list.\n",
    "\n",
    "tuple_values = (1, 2, 3)\n",
    "list_values = list(tuple_values)  # list_values will be [1, 2, 3]\n",
    "print(list_values)\n",
    "\n",
    "# tuple(): Convert an iterable (e.g., list, string) to a tuple.\n",
    "\n",
    "list_values = [4, 5, 6]\n",
    "tuple_values = tuple(list_values)  # tuple_values will be (4, 5, 6)\n",
    "print(tuple_values)\n",
    "\n",
    "# set(): Convert an iterable (e.g., list, string) to a set.\n",
    "\n",
    "str_values = \"hello\"\n",
    "set_values = set(str_values)  # set_values will be {'h', 'e', 'l', 'o'}\n",
    "print(set_values)\n",
    "\n",
    "# dict(): Convert a list of key-value pairs to a dictionary.\n",
    "\n",
    "key_value_pairs = [('a', 1), ('b', 2), ('c', 3)]\n",
    "my_dict = dict(key_value_pairs)  # my_dict will be {'a': 1, 'b': 2, 'c': 3}\n",
    "print(my_dict)\n",
    "\n",
    "#ensuring that the data can be converted correctly to the desired type."
   ]
  },
  {
   "cell_type": "markdown",
   "id": "9db1f2d5",
   "metadata": {},
   "source": [
    "Q4. How do you write and execute a Python script from the command line?"
   ]
  },
  {
   "cell_type": "markdown",
   "id": "e9ee8091",
   "metadata": {},
   "source": [
    "1) Open text editor \n",
    "2) write python code\n",
    "3) Navigate to the script directory \n",
    "4) Run the python Scripts \n",
    "#To execute the Python script, you can use the python command, followed by the name of your script file. \n",
    "#For example, to run myscript.py, enter the following command:\n",
    "#Make sure you have Python installed on your computer and that it's added to your system's PATH environment variable.\n",
    "#This way, the python command will be recognized.\n",
    "#If you're using Python 3.x, you can replace python with python3 in the command, like this:\n",
    "python3 myscript.py\n",
    "\n",
    "5) View the Output "
   ]
  },
  {
   "cell_type": "markdown",
   "id": "08538345",
   "metadata": {},
   "source": [
    "Q5. Given a list my_list = [1, 2, 3, 4, 5], write the code to slice the list and obtain the sub-list [2, 3]."
   ]
  },
  {
   "cell_type": "code",
   "execution_count": 4,
   "id": "76019b84",
   "metadata": {},
   "outputs": [
    {
     "data": {
      "text/plain": [
       "[2, 3]"
      ]
     },
     "execution_count": 4,
     "metadata": {},
     "output_type": "execute_result"
    }
   ],
   "source": [
    "my_list = [1, 2, 3, 4, 5]\n",
    "aa=my_list[1:3]# sliced the given list into sub list aa\n",
    "aa"
   ]
  },
  {
   "cell_type": "markdown",
   "id": "a0a0f487",
   "metadata": {},
   "source": [
    "Q6. What is a complex number in mathematics, and how is it represented in Python?"
   ]
  },
  {
   "cell_type": "code",
   "execution_count": 7,
   "id": "7582a09c",
   "metadata": {},
   "outputs": [
    {
     "data": {
      "text/plain": [
       "complex"
      ]
     },
     "execution_count": 7,
     "metadata": {},
     "output_type": "execute_result"
    }
   ],
   "source": [
    "# Complex number in python only denoted by j element where j is imaginary number for example\n",
    "comp=4j+4\n",
    "type(comp)"
   ]
  },
  {
   "cell_type": "markdown",
   "id": "fc583446",
   "metadata": {},
   "source": [
    "Q7. What is the correct way to declare a variable named age and assign the value 25 to it?"
   ]
  },
  {
   "cell_type": "code",
   "execution_count": 8,
   "id": "1db6d35a",
   "metadata": {},
   "outputs": [
    {
     "data": {
      "text/plain": [
       "int"
      ]
     },
     "execution_count": 8,
     "metadata": {},
     "output_type": "execute_result"
    }
   ],
   "source": [
    "# we can directly assign values to variables using the assignment operator (=). \n",
    "# When by writting age = 25, I have creating a variable named age and storing the value 25 in it. \n",
    "# The type of the variable age will be inferred based on the value assigned to it, in this case, an integer type.\n",
    "age=25\n",
    "type(age)"
   ]
  },
  {
   "cell_type": "markdown",
   "id": "21f06098",
   "metadata": {},
   "source": [
    "Q8. Declare a variable named price and assign the value 9.99 to it. What data type does this variable\n",
    "belong to?"
   ]
  },
  {
   "cell_type": "code",
   "execution_count": 10,
   "id": "232a99ed",
   "metadata": {},
   "outputs": [
    {
     "data": {
      "text/plain": [
       "float"
      ]
     },
     "execution_count": 10,
     "metadata": {},
     "output_type": "execute_result"
    }
   ],
   "source": [
    "price=9.99\n",
    "type(price)\n",
    "# declared variable and found thier data type"
   ]
  },
  {
   "cell_type": "markdown",
   "id": "770476d6",
   "metadata": {},
   "source": [
    "Q9. Create a variable named name and assign your full name to it as a string. How would you print the\n",
    "value of this variable?"
   ]
  },
  {
   "cell_type": "code",
   "execution_count": 12,
   "id": "4bb049b8",
   "metadata": {},
   "outputs": [
    {
     "name": "stdout",
     "output_type": "stream",
     "text": [
      "Sudhir Rajak\n"
     ]
    },
    {
     "data": {
      "text/plain": [
       "str"
      ]
     },
     "execution_count": 12,
     "metadata": {},
     "output_type": "execute_result"
    }
   ],
   "source": [
    "name='Sudhir Rajak'\n",
    "print(name)\n",
    "type(name)\n",
    "\n",
    "#printed variable with my name and their data type as well"
   ]
  },
  {
   "cell_type": "markdown",
   "id": "cf6cd884",
   "metadata": {},
   "source": [
    "Q10. Given the string \"Hello, World!\", extract the substring \"World\"."
   ]
  },
  {
   "cell_type": "code",
   "execution_count": 13,
   "id": "c936e845",
   "metadata": {},
   "outputs": [],
   "source": [
    "var=\"Hello, World!\""
   ]
  },
  {
   "cell_type": "code",
   "execution_count": 19,
   "id": "0ce67f4a",
   "metadata": {},
   "outputs": [
    {
     "data": {
      "text/plain": [
       "'World'"
      ]
     },
     "execution_count": 19,
     "metadata": {},
     "output_type": "execute_result"
    }
   ],
   "source": [
    "var[7:-1]"
   ]
  },
  {
   "cell_type": "markdown",
   "id": "7789caf6",
   "metadata": {},
   "source": [
    "Q11. Create a variable named \"is_student\" and assign it a boolean value indicating whether you are\n",
    "currently a student or not."
   ]
  },
  {
   "cell_type": "code",
   "execution_count": 20,
   "id": "d09ca1af",
   "metadata": {},
   "outputs": [
    {
     "data": {
      "text/plain": [
       "bool"
      ]
     },
     "execution_count": 20,
     "metadata": {},
     "output_type": "execute_result"
    }
   ],
   "source": [
    "is_student=False\n",
    "type(is_student)"
   ]
  },
  {
   "cell_type": "code",
   "execution_count": null,
   "id": "06a0a472",
   "metadata": {},
   "outputs": [],
   "source": []
  }
 ],
 "metadata": {
  "kernelspec": {
   "display_name": "Python 3 (ipykernel)",
   "language": "python",
   "name": "python3"
  },
  "language_info": {
   "codemirror_mode": {
    "name": "ipython",
    "version": 3
   },
   "file_extension": ".py",
   "mimetype": "text/x-python",
   "name": "python",
   "nbconvert_exporter": "python",
   "pygments_lexer": "ipython3",
   "version": "3.9.13"
  }
 },
 "nbformat": 4,
 "nbformat_minor": 5
}
